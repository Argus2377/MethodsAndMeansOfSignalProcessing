{
 "cells": [
  {
   "cell_type": "code",
   "execution_count": 57,
   "metadata": {},
   "outputs": [],
   "source": [
    "from math import sin\n",
    "import numpy as np\n",
    "import matplotlib.pyplot as plt\n",
    "from PIL import Image"
   ]
  },
  {
   "cell_type": "code",
   "execution_count": 58,
   "metadata": {},
   "outputs": [],
   "source": [
    "def BW_convert(name):\n",
    "    image = Image.open(name)\n",
    "    BW_image = image.convert('L')\n",
    "    arr = np.array(BW_image,dtype='uint8')\n",
    "    for i in range(arr.shape[0]):\n",
    "        for j in range(arr.shape[1]):\n",
    "            if (arr[i,j] <220):\n",
    "                arr[i,j] = 0\n",
    "            else: \n",
    "                arr[i,j] = 255\n",
    "    np.savetxt('1',arr)\n",
    "    BW_image = Image.fromarray(arr)\n",
    "    BW_image.save('result_bw.png')"
   ]
  },
  {
   "cell_type": "code",
   "execution_count": 103,
   "metadata": {},
   "outputs": [],
   "source": [
    "name = 'captcha.jpg'\n",
    "BW_convert(name)\n",
    "image = Image.open('result_bw.png')\n",
    "arr = np.array(image,dtype='uint8')"
   ]
  },
  {
   "cell_type": "code",
   "execution_count": 147,
   "metadata": {},
   "outputs": [],
   "source": [
    "filter = 32\n",
    "x0 = 0\n",
    "x,y = image.size\n",
    "step = 32\n",
    "dx = x/step"
   ]
  },
  {
   "cell_type": "code",
   "execution_count": 148,
   "metadata": {},
   "outputs": [
    {
     "name": "stdout",
     "output_type": "stream",
     "text": [
      "0 . 16.0\n",
      "32 . 76.0\n",
      "64 . 73.0\n",
      "96 . -4.0\n",
      "128 . 5.0\n"
     ]
    },
    {
     "data": {
      "image/png": "[encoded data removed]",
      "text/plain": [
       "<Figure size 432x288 with 1 Axes>"
      ]
     },
     "metadata": {
      "needs_background": "light"
     },
     "output_type": "display_data"
    }
   ],
   "source": [
    "if(dx%1 != 0):\n",
    "    dx = int(dx) + 1\n",
    "else:\n",
    "    dx = int(dx)\n",
    "numbers_arr = np.zeros(shape=(dx))\n",
    "\n",
    "while (dx > 0):\n",
    "    summs = 0\n",
    "    for i in range(arr.shape[0]):\n",
    "        for j in range(x0,x0 + filter,1):\n",
    "            if (arr[i,j] == 0):\n",
    "                if (j - x0 < (filter)/2):\n",
    "                    summs = summs - 1\n",
    "                else:\n",
    "                    summs = summs + 1\n",
    "    numbers_arr[numbers_arr.size-dx] = summs\n",
    "    x0 = x0 + step\n",
    "    if (x0 + filter > x):\n",
    "        overpoint = x0 + filter - x\n",
    "        x0 = x0 - overpoint\n",
    "    dx = dx - 1\n",
    "\n",
    "arr_x = []\n",
    "for i in range(0,x,step):\n",
    "    arr_x.append(i)\n",
    "\n",
    "n = 0\n",
    "for i in numbers_arr:\n",
    "    print(arr_x[n],'.',i)\n",
    "    n = n + 1\n",
    "\n",
    "plt.plot(arr_x, numbers_arr, 'g')\n",
    "plt.show()"
   ]
  },
  {
   "cell_type": "code",
   "execution_count": null,
   "metadata": {},
   "outputs": [],
   "source": []
  }
 ],
 "metadata": {
  "kernelspec": {
   "display_name": "Python 3",
   "language": "python",
   "name": "python3"
  },
  "language_info": {
   "codemirror_mode": {
    "name": "ipython",
    "version": 3
   },
   "file_extension": ".py",
   "mimetype": "text/x-python",
   "name": "python",
   "nbconvert_exporter": "python",
   "pygments_lexer": "ipython3",
   "version": "3.8.7"
  }
 },
 "nbformat": 4,
 "nbformat_minor": 4
}
