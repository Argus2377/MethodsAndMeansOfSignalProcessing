{
 "cells": [
  {
   "cell_type": "markdown",
   "metadata": {},
   "source": [
    "1 л.р.\n",
    "Имея функцию y(x)= a1*sin(b1*x)+a2*sin(b2*x)+a3*sin(b3*x)\n",
    "Коэффициенты ai и bi задаются\n",
    "x0 (начальное), xk (конечное), delta x (шаг) тоже заданы\n",
    "М.б. положительные, отрицательные, дробные\n",
    "\n",
    "Прога должна выполнять расчёт y(x) с заданными параметрами. Также должно быть отображение векторов x и y в виде таблицы\n",
    "\n",
    "Помимо таблицы должно быть построение графика y(x) по рассчитанным данным\n",
    "\n",
    "GUI не обязателен, но приветствуется\n",
    "Не рекомендованно сохранение в сложный графический формат (jpeg). Лучше использовать простой формат (несжатый bmp, svg) - у кого нет GUI\n",
    "\n",
    "Любой язык, но нужно продемонстрировать работающую программу при заданных параметрах преподавателем.\n",
    "Предоставить отчёт о л.р. в бумажном виде (от руки или распечатанный). Включает: титульный лист, постановку задачи, ход выполнения (демонстрация работы программы для 1 л.р.), полученные результаты и вывод. Исходный код вставлять в отчёт не нужно "
   ]
  },
  {
   "cell_type": "code",
   "execution_count": 2,
   "metadata": {},
   "outputs": [
    {
     "name": "stdout",
     "output_type": "stream",
     "text": [
      "Enter x0: 1\n",
      "Enter xk: 2\n",
      "Enter d: 0.1\n",
      "Enter a1: 1\n",
      "Enter a2: 2\n",
      "Enter a3: 3\n",
      "Enter b1: 4\n",
      "Enter b2: 5\n",
      "Enter b3: 6\n"
     ]
    }
   ],
   "source": [
    "from math import sin\n",
    "\n",
    "def y(x):\n",
    "    return(a1*sin(b1*x)+a2*sin(b2*x)+a3*sin(b3*x))\n",
    "\n",
    "arr=[[],[]]\n",
    "\n",
    "x0 = float(input(\"Enter x0: \"))\n",
    "xk = float(input(\"Enter xk: \"))\n",
    "d = float(input(\"Enter d: \"))\n",
    "a1 = float(input(\"Enter a1: \"))\n",
    "a2 = float(input(\"Enter a2: \"))\n",
    "a3 = float(input(\"Enter a3: \"))\n",
    "b1 = float(input(\"Enter b1: \"))\n",
    "b2 = float(input(\"Enter b2: \"))\n",
    "b3 = float(input(\"Enter b3: \"))"
   ]
  },
  {
   "cell_type": "code",
   "execution_count": 3,
   "metadata": {},
   "outputs": [
    {
     "name": "stdout",
     "output_type": "stream",
     "text": [
      "+---------+---------+\n",
      "|    x    |    y    |\n",
      "+---------+---------+\n",
      "| +1.0000 | -3.5129 |\n",
      "+---------+---------+\n",
      "| +1.1000 | -1.4281 |\n",
      "+---------+---------+\n",
      "| +1.2000 | +0.8260 |\n",
      "+---------+---------+\n",
      "| +1.3000 | +2.5424 |\n",
      "+---------+---------+\n",
      "| +1.4000 | +3.2465 |\n",
      "+---------+---------+\n",
      "| +1.5000 | +2.8329 |\n",
      "+---------+---------+\n",
      "| +1.6000 | +1.5723 |\n",
      "+---------+---------+\n",
      "| +1.7000 | -0.0085 |\n",
      "+---------+---------+\n",
      "| +1.8000 | -1.3249 |\n",
      "+---------+---------+\n",
      "| +1.9000 | -1.9404 |\n",
      "+---------+---------+\n"
     ]
    }
   ],
   "source": [
    "while x0<xk:\n",
    "    arr[0].append(x0)\n",
    "    arr[1].append(y(x0))\n",
    "    x0+=d\n",
    "\n",
    "print(\"+---------+---------+\")\n",
    "print(\"|    x    |    y    |\")\n",
    "print(\"+---------+---------+\")\n",
    "    \n",
    "for q in range(len(arr[1])):\n",
    "    print(f\"| {arr[0][q]:^+.4f} | {arr[1][q]:^+.4f} |\")\n",
    "    print(\"+---------+---------+\")"
   ]
  },
  {
   "cell_type": "code",
   "execution_count": 4,
   "metadata": {},
   "outputs": [],
   "source": [
    "import matplotlib.pyplot as plt"
   ]
  },
  {
   "cell_type": "code",
   "execution_count": 9,
   "metadata": {},
   "outputs": [
    {
     "data": {
      "image/png": "[encoded data removed]",
      "text/plain": [
       "<Figure size 432x288 with 1 Axes>"
      ]
     },
     "metadata": {
      "needs_background": "light"
     },
     "output_type": "display_data"
    }
   ],
   "source": [
    "img = plt.figure()\n",
    "plt.plot(arr[0],arr[1])\n",
    "plt.grid()"
   ]
  },
  {
   "cell_type": "code",
   "execution_count": 10,
   "metadata": {},
   "outputs": [],
   "source": [
    "img.savefig('saved.png')"
   ]
  },
  {
   "cell_type": "code",
   "execution_count": null,
   "metadata": {},
   "outputs": [],
   "source": []
  }
 ],
 "metadata": {
  "kernelspec": {
   "display_name": "Python 3",
   "language": "python",
   "name": "python3"
  },
  "language_info": {
   "codemirror_mode": {
    "name": "ipython",
    "version": 3
   },
   "file_extension": ".py",
   "mimetype": "text/x-python",
   "name": "python",
   "nbconvert_exporter": "python",
   "pygments_lexer": "ipython3",
   "version": "3.8.7"
  }
 },
 "nbformat": 4,
 "nbformat_minor": 4
}
